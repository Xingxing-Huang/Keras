{
 "cells": [
  {
   "cell_type": "markdown",
   "metadata": {},
   "source": [
    "https://www.tutorialspoint.com/keras/keras_convolution_neural_network.htm"
   ]
  },
  {
   "cell_type": "markdown",
   "metadata": {},
   "source": [
    "Keras - Convolution Neural Network"
   ]
  },
  {
   "cell_type": "code",
   "execution_count": null,
   "metadata": {},
   "outputs": [],
   "source": []
  },
  {
   "cell_type": "markdown",
   "metadata": {},
   "source": [
    "Step 1 − Import the modules"
   ]
  },
  {
   "cell_type": "code",
   "execution_count": 1,
   "metadata": {},
   "outputs": [
    {
     "name": "stderr",
     "output_type": "stream",
     "text": [
      "Using TensorFlow backend.\n"
     ]
    }
   ],
   "source": [
    "import keras \n",
    "from keras.datasets import mnist \n",
    "from keras.models import Sequential \n",
    "from keras.layers import Dense, Dropout, Flatten \n",
    "from keras.layers import Conv2D, MaxPooling2D \n",
    "from keras import backend as K \n",
    "import numpy as np"
   ]
  },
  {
   "cell_type": "markdown",
   "metadata": {},
   "source": [
    "Step 2 − Load data"
   ]
  },
  {
   "cell_type": "code",
   "execution_count": 2,
   "metadata": {},
   "outputs": [],
   "source": [
    "(x_train, y_train), (x_test, y_test) = mnist.load_data()"
   ]
  },
  {
   "cell_type": "markdown",
   "metadata": {},
   "source": [
    "Step 3 − Process the data"
   ]
  },
  {
   "cell_type": "code",
   "execution_count": 3,
   "metadata": {},
   "outputs": [],
   "source": [
    "img_rows, img_cols = 28, 28 \n",
    "\n",
    "if K.image_data_format() == 'channels_first': \n",
    "   x_train = x_train.reshape(x_train.shape[0], 1, img_rows, img_cols) \n",
    "   x_test = x_test.reshape(x_test.shape[0], 1, img_rows, img_cols) \n",
    "   input_shape = (1, img_rows, img_cols) \n",
    "else: \n",
    "   x_train = x_train.reshape(x_train.shape[0], img_rows, img_cols, 1) \n",
    "   x_test = x_test.reshape(x_test.shape[0], img_rows, img_cols, 1) \n",
    "   input_shape = (img_rows, img_cols, 1) \n",
    "   \n",
    "x_train = x_train.astype('float32') \n",
    "x_test = x_test.astype('float32') \n",
    "x_train /= 255 \n",
    "x_test /= 255 \n",
    "\n",
    "y_train = keras.utils.to_categorical(y_train, 10) \n",
    "y_test = keras.utils.to_categorical(y_test, 10)"
   ]
  },
  {
   "cell_type": "markdown",
   "metadata": {},
   "source": [
    "Step 4 − Create the model"
   ]
  },
  {
   "cell_type": "code",
   "execution_count": 5,
   "metadata": {},
   "outputs": [],
   "source": [
    "model = Sequential() \n",
    "model.add(Conv2D(32, kernel_size = (3, 3),  \n",
    "   activation = 'relu', input_shape = input_shape)) \n",
    "model.add(Conv2D(64, (3, 3), activation = 'relu')) \n",
    "model.add(MaxPooling2D(pool_size = (2, 2))) \n",
    "model.add(Dropout(0.25)) \n",
    "model.add(Flatten()) \n",
    "model.add(Dense(128, activation = 'relu')) \n",
    "model.add(Dropout(0.5)) \n",
    "model.add(Dense(10, activation = 'softmax'))"
   ]
  },
  {
   "cell_type": "markdown",
   "metadata": {},
   "source": [
    "Step 5 − Compile the model"
   ]
  },
  {
   "cell_type": "code",
   "execution_count": 6,
   "metadata": {},
   "outputs": [],
   "source": [
    "model.compile(loss = keras.losses.categorical_crossentropy, \n",
    "   optimizer = keras.optimizers.Adadelta(), metrics = ['accuracy'])"
   ]
  },
  {
   "cell_type": "markdown",
   "metadata": {},
   "source": [
    "Step 6 − Train the model"
   ]
  },
  {
   "cell_type": "code",
   "execution_count": 7,
   "metadata": {},
   "outputs": [
    {
     "name": "stdout",
     "output_type": "stream",
     "text": [
      "Train on 60000 samples, validate on 10000 samples\n",
      "Epoch 1/12\n",
      "60000/60000 [==============================] - 135s 2ms/step - loss: 0.2754 - accuracy: 0.9164 - val_loss: 0.0608 - val_accuracy: 0.9802\n",
      "Epoch 2/12\n",
      "60000/60000 [==============================] - 122s 2ms/step - loss: 0.0915 - accuracy: 0.9728 - val_loss: 0.0400 - val_accuracy: 0.9866\n",
      "Epoch 3/12\n",
      "60000/60000 [==============================] - 130s 2ms/step - loss: 0.0655 - accuracy: 0.9808 - val_loss: 0.0367 - val_accuracy: 0.9881\n",
      "Epoch 4/12\n",
      "60000/60000 [==============================] - 117s 2ms/step - loss: 0.0546 - accuracy: 0.9841 - val_loss: 0.0353 - val_accuracy: 0.9886\n",
      "Epoch 5/12\n",
      "60000/60000 [==============================] - 118s 2ms/step - loss: 0.0483 - accuracy: 0.9857 - val_loss: 0.0263 - val_accuracy: 0.9908\n",
      "Epoch 6/12\n",
      "60000/60000 [==============================] - 118s 2ms/step - loss: 0.0421 - accuracy: 0.9867 - val_loss: 0.0289 - val_accuracy: 0.9911\n",
      "Epoch 7/12\n",
      "60000/60000 [==============================] - 110s 2ms/step - loss: 0.0383 - accuracy: 0.9883 - val_loss: 0.0319 - val_accuracy: 0.9893\n",
      "Epoch 8/12\n",
      "60000/60000 [==============================] - 107s 2ms/step - loss: 0.0339 - accuracy: 0.9897 - val_loss: 0.0258 - val_accuracy: 0.9924\n",
      "Epoch 9/12\n",
      "60000/60000 [==============================] - 109s 2ms/step - loss: 0.0313 - accuracy: 0.9909 - val_loss: 0.0317 - val_accuracy: 0.9896\n",
      "Epoch 10/12\n",
      "60000/60000 [==============================] - 99s 2ms/step - loss: 0.0288 - accuracy: 0.9912 - val_loss: 0.0276 - val_accuracy: 0.9906\n",
      "Epoch 11/12\n",
      "60000/60000 [==============================] - 101s 2ms/step - loss: 0.0279 - accuracy: 0.9917 - val_loss: 0.0293 - val_accuracy: 0.9907\n",
      "Epoch 12/12\n",
      "60000/60000 [==============================] - 116s 2ms/step - loss: 0.0268 - accuracy: 0.9920 - val_loss: 0.0304 - val_accuracy: 0.9913\n"
     ]
    },
    {
     "data": {
      "text/plain": [
       "<keras.callbacks.callbacks.History at 0x265821449b0>"
      ]
     },
     "execution_count": 7,
     "metadata": {},
     "output_type": "execute_result"
    }
   ],
   "source": [
    "model.fit(\n",
    "   x_train, y_train, \n",
    "   batch_size = 128, \n",
    "   epochs = 12, \n",
    "   verbose = 1, \n",
    "   validation_data = (x_test, y_test)\n",
    ")"
   ]
  },
  {
   "cell_type": "markdown",
   "metadata": {},
   "source": [
    "Step 7 − Evaluate the model"
   ]
  },
  {
   "cell_type": "code",
   "execution_count": 8,
   "metadata": {},
   "outputs": [
    {
     "name": "stdout",
     "output_type": "stream",
     "text": [
      "Test loss: 0.03040170060568762\n",
      "Test accuracy: 0.9912999868392944\n"
     ]
    }
   ],
   "source": [
    "score = model.evaluate(x_test, y_test, verbose = 0) \n",
    "\n",
    "print('Test loss:', score[0]) \n",
    "print('Test accuracy:', score[1])"
   ]
  },
  {
   "cell_type": "markdown",
   "metadata": {},
   "source": [
    "Step 8 − Predict"
   ]
  },
  {
   "cell_type": "code",
   "execution_count": 9,
   "metadata": {},
   "outputs": [
    {
     "name": "stdout",
     "output_type": "stream",
     "text": [
      "[7 2 1 0 4]\n",
      "[7 2 1 0 4]\n"
     ]
    }
   ],
   "source": [
    "pred = model.predict(x_test) \n",
    "pred = np.argmax(pred, axis = 1)[:5] \n",
    "label = np.argmax(y_test,axis = 1)[:5] \n",
    "\n",
    "print(pred) \n",
    "print(label)"
   ]
  },
  {
   "cell_type": "code",
   "execution_count": null,
   "metadata": {},
   "outputs": [],
   "source": []
  },
  {
   "cell_type": "code",
   "execution_count": null,
   "metadata": {},
   "outputs": [],
   "source": []
  }
 ],
 "metadata": {
  "kernelspec": {
   "display_name": "Python 3",
   "language": "python",
   "name": "python3"
  },
  "language_info": {
   "codemirror_mode": {
    "name": "ipython",
    "version": 3
   },
   "file_extension": ".py",
   "mimetype": "text/x-python",
   "name": "python",
   "nbconvert_exporter": "python",
   "pygments_lexer": "ipython3",
   "version": "3.6.10"
  }
 },
 "nbformat": 4,
 "nbformat_minor": 2
}
